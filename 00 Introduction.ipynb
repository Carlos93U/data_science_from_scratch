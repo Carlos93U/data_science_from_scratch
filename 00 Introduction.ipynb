{
 "cells": [
  {
   "cell_type": "markdown",
   "metadata": {},
   "source": [
    "# **`Introduction`**"
   ]
  },
  {
   "cell_type": "markdown",
   "metadata": {
    "tags": [
     "photo"
    ]
   },
   "source": [
    "<p align=\"center\">\n",
    "  <img src=\"https://i1.sndcdn.com/artworks-m1cixwoFuQDor8FP-GB3YNg-t3000x3000.jpg\" alt=\"hands on machine learning\" style=\"height: 500px;\">\n",
    "</p>\n"
   ]
  },
  {
   "cell_type": "markdown",
   "metadata": {},
   "source": [
    "### **`Joel Grus`**\n",
    "\n",
    "- **[Who is Joel Grus?](https://joelgrus.com/)**\n",
    "- **[GitHUb](https://github.com/joelgrus)**\n",
    "- **[Twitter](https://twitter.com/joelgrus)**\n",
    "- **[linkedin](https://www.linkedin.com/in/joelgrus/)**\n",
    "- **[instagram](https://www.instagram.com/joelgrus/)**"
   ]
  },
  {
   "cell_type": "markdown",
   "metadata": {},
   "source": [
    "### **`Errata`**\n",
    "\n",
    "- **[Errata about this book](https://www.oreilly.com/catalog/errata.csp?isbn=9781492041139)**\n"
   ]
  }
 ],
 "metadata": {
  "kernelspec": {
   "display_name": "env",
   "language": "python",
   "name": "python3"
  },
  "language_info": {
   "name": "python",
   "version": "3.10.12"
  }
 },
 "nbformat": 4,
 "nbformat_minor": 2
}
